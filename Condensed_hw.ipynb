{
 "cells": [
  {
   "cell_type": "code",
   "execution_count": 1,
   "id": "fecd9bfb-e5f9-4fc7-97f6-cecf94fe5021",
   "metadata": {},
   "outputs": [],
   "source": [
    "from sympy import *\n",
    "from sympy.solvers import solve\n",
    "import sympy as sp\n",
    "import matplotlib.pyplot as plt"
   ]
  },
  {
   "cell_type": "code",
   "execution_count": 2,
   "id": "d402e460-282a-4278-824f-cb73f103ac97",
   "metadata": {},
   "outputs": [
    {
     "data": {
      "text/latex": [
       "$\\displaystyle \\alpha_{1}$"
      ],
      "text/plain": [
       "\\alpha_1"
      ]
     },
     "execution_count": 2,
     "metadata": {},
     "output_type": "execute_result"
    }
   ],
   "source": [
    "alpha_1, alpha_2, q_x, q_y, a = symbols(\"\\\\alpha_1 \\\\alpha_2 q_x q_y a\")\n",
    "alpha_1"
   ]
  },
  {
   "cell_type": "code",
   "execution_count": 3,
   "id": "fec1171b-8b3c-4bc9-a6e3-e82f98a73d0a",
   "metadata": {},
   "outputs": [
    {
     "data": {
      "text/latex": [
       "$\\displaystyle \\left[\\begin{matrix}4 \\alpha_{1} \\sin^{2}{\\left(\\frac{a q_{x}}{2} \\right)} + 2 \\alpha_{2} \\left(- \\cos{\\left(a q_{x} \\right)} \\cos{\\left(a q_{y} \\right)} + 1\\right) & 2 \\alpha_{2} \\sin{\\left(a q_{x} \\right)} \\sin{\\left(a q_{y} \\right)}\\\\2 \\alpha_{2} \\sin{\\left(a q_{x} \\right)} \\sin{\\left(a q_{y} \\right)} & 4 \\alpha_{1} \\sin^{2}{\\left(\\frac{a q_{y}}{2} \\right)} + 2 \\alpha_{2} \\left(- \\cos{\\left(a q_{x} \\right)} \\cos{\\left(a q_{y} \\right)} + 1\\right)\\end{matrix}\\right]$"
      ],
      "text/plain": [
       "Matrix([\n",
       "[4*\\alpha_1*sin(a*q_x/2)**2 + 2*\\alpha_2*(-cos(a*q_x)*cos(a*q_y) + 1),                                     2*\\alpha_2*sin(a*q_x)*sin(a*q_y)],\n",
       "[                                    2*\\alpha_2*sin(a*q_x)*sin(a*q_y), 4*\\alpha_1*sin(a*q_y/2)**2 + 2*\\alpha_2*(-cos(a*q_x)*cos(a*q_y) + 1)]])"
      ]
     },
     "execution_count": 3,
     "metadata": {},
     "output_type": "execute_result"
    }
   ],
   "source": [
    "# Defining the matrix\n",
    "D = Matrix([\n",
    "    [\n",
    "        4*alpha_1*sin(q_x*a/2)**2 + 2*alpha_2*(1 - cos(q_x*a)*cos(q_y*a)),\n",
    "        2*alpha_2*sin(q_x*a)*sin(q_y*a)\n",
    "    ],\n",
    "    [\n",
    "        2*alpha_2*sin(q_x*a)*sin(q_y*a),\n",
    "        4*alpha_1*sin(q_y*a/2)**2 + 2*alpha_2*(1 - cos(q_x*a)*cos(q_y*a))\n",
    "    ]\n",
    "])\n",
    "D"
   ]
  },
  {
   "cell_type": "code",
   "execution_count": 4,
   "id": "544fbcf6-676e-479b-81d8-31309e7e8255",
   "metadata": {
    "tags": []
   },
   "outputs": [
    {
     "data": {
      "text/latex": [
       "$\\displaystyle 2 \\alpha_{1} \\sin^{2}{\\left(\\frac{a q_{x}}{2} \\right)} + 2 \\alpha_{1} \\sin^{2}{\\left(\\frac{a q_{y}}{2} \\right)} - 2 \\alpha_{2} \\cos{\\left(a q_{x} \\right)} \\cos{\\left(a q_{y} \\right)} + 2 \\alpha_{2} - 2 \\sqrt{\\alpha_{1}^{2} \\sin^{4}{\\left(\\frac{a q_{x}}{2} \\right)} - 2 \\alpha_{1}^{2} \\sin^{2}{\\left(\\frac{a q_{x}}{2} \\right)} \\sin^{2}{\\left(\\frac{a q_{y}}{2} \\right)} + \\alpha_{1}^{2} \\sin^{4}{\\left(\\frac{a q_{y}}{2} \\right)} + \\alpha_{2}^{2} \\sin^{2}{\\left(a q_{x} \\right)} \\sin^{2}{\\left(a q_{y} \\right)}}$"
      ],
      "text/plain": [
       "2*\\alpha_1*sin(a*q_x/2)**2 + 2*\\alpha_1*sin(a*q_y/2)**2 - 2*\\alpha_2*cos(a*q_x)*cos(a*q_y) + 2*\\alpha_2 - 2*sqrt(\\alpha_1**2*sin(a*q_x/2)**4 - 2*\\alpha_1**2*sin(a*q_x/2)**2*sin(a*q_y/2)**2 + \\alpha_1**2*sin(a*q_y/2)**4 + \\alpha_2**2*sin(a*q_x)**2*sin(a*q_y)**2)"
      ]
     },
     "execution_count": 4,
     "metadata": {},
     "output_type": "execute_result"
    }
   ],
   "source": [
    "vec1, vec2 = D.eigenvals(simplify=True)\n",
    "vec1"
   ]
  },
  {
   "cell_type": "code",
   "execution_count": 5,
   "id": "7cd9d573-ec15-473c-b2d2-602c9d73a077",
   "metadata": {},
   "outputs": [
    {
     "data": {
      "text/latex": [
       "$\\displaystyle \\sqrt{\\frac{2 \\alpha_{1} \\sin^{2}{\\left(\\frac{a q_{x}}{2} \\right)} + 2 \\alpha_{1} \\sin^{2}{\\left(\\frac{a q_{y}}{2} \\right)} - 2 \\alpha_{2} \\cos{\\left(a q_{x} \\right)} \\cos{\\left(a q_{y} \\right)} + 2 \\alpha_{2} - 2 \\sqrt{\\alpha_{1}^{2} \\sin^{4}{\\left(\\frac{a q_{x}}{2} \\right)} - 2 \\alpha_{1}^{2} \\sin^{2}{\\left(\\frac{a q_{x}}{2} \\right)} \\sin^{2}{\\left(\\frac{a q_{y}}{2} \\right)} + \\alpha_{1}^{2} \\sin^{4}{\\left(\\frac{a q_{y}}{2} \\right)} + \\alpha_{2}^{2} \\sin^{2}{\\left(a q_{x} \\right)} \\sin^{2}{\\left(a q_{y} \\right)}}}{M}}$"
      ],
      "text/plain": [
       "sqrt((2*\\alpha_1*sin(a*q_x/2)**2 + 2*\\alpha_1*sin(a*q_y/2)**2 - 2*\\alpha_2*cos(a*q_x)*cos(a*q_y) + 2*\\alpha_2 - 2*sqrt(\\alpha_1**2*sin(a*q_x/2)**4 - 2*\\alpha_1**2*sin(a*q_x/2)**2*sin(a*q_y/2)**2 + \\alpha_1**2*sin(a*q_y/2)**4 + \\alpha_2**2*sin(a*q_x)**2*sin(a*q_y)**2))/M)"
      ]
     },
     "execution_count": 5,
     "metadata": {},
     "output_type": "execute_result"
    }
   ],
   "source": [
    "omega1 = sqrt(vec1/Symbol(\"M\"))\n",
    "omega2 = sqrt(vec2/Symbol(\"M\"))\n",
    "omega1"
   ]
  },
  {
   "cell_type": "code",
   "execution_count": 6,
   "id": "f3e0c959-4edc-4dc5-8f4c-bf1b8ece2a8c",
   "metadata": {},
   "outputs": [
    {
     "data": {
      "text/latex": [
       "$\\displaystyle 1.0 \\cdot 10^{15} \\sqrt{- \\sqrt{4 \\sin^{4}{\\left(\\frac{q_{x}}{2} \\right)} - 8 \\sin^{2}{\\left(\\frac{q_{x}}{2} \\right)} \\sin^{2}{\\left(\\frac{q_{y}}{2} \\right)} + \\sin^{2}{\\left(q_{x} \\right)} \\sin^{2}{\\left(q_{y} \\right)} + 4 \\sin^{4}{\\left(\\frac{q_{y}}{2} \\right)}} + 2 \\sin^{2}{\\left(\\frac{q_{x}}{2} \\right)} + 2 \\sin^{2}{\\left(\\frac{q_{y}}{2} \\right)} - \\cos{\\left(q_{x} \\right)} \\cos{\\left(q_{y} \\right)} + 1}$"
      ],
      "text/plain": [
       "1.0e+15*sqrt(-sqrt(4*sin(q_x/2)**4 - 8*sin(q_x/2)**2*sin(q_y/2)**2 + sin(q_x)**2*sin(q_y)**2 + 4*sin(q_y/2)**4) + 2*sin(q_x/2)**2 + 2*sin(q_y/2)**2 - cos(q_x)*cos(q_y) + 1)"
      ]
     },
     "execution_count": 6,
     "metadata": {},
     "output_type": "execute_result"
    }
   ],
   "source": [
    "# Substituting numbers\n",
    "alpha_1 = 200  # N/m\n",
    "alpha_2 = 100  # N/m\n",
    "a = 1  # M\n",
    "M = 2*10**-28  # kg\n",
    "from math import pi\n",
    "omega1 = simplify(omega1.subs({\n",
    "    Symbol(\"M\"): M,\n",
    "    Symbol(\"\\\\alpha_1\"): alpha_1,\n",
    "    Symbol(\"\\\\alpha_2\"): alpha_2,\n",
    "    Symbol(\"a\"): a\n",
    "}))\n",
    "omega2 = simplify(omega2.subs({\n",
    "    Symbol(\"M\"): M,\n",
    "    Symbol(\"\\\\alpha_1\"): alpha_1,\n",
    "    Symbol(\"\\\\alpha_2\"): alpha_2,\n",
    "    Symbol(\"a\"): a\n",
    "}))\n",
    "omega1"
   ]
  },
  {
   "cell_type": "code",
   "execution_count": 7,
   "id": "5f6f1401-fd44-43f3-9d1b-c9810ad87cf3",
   "metadata": {},
   "outputs": [],
   "source": [
    "def ome1(x, y):\n",
    "    return omega1.subs({\n",
    "        Symbol(\"q_x\"): x,\n",
    "        Symbol(\"q_y\"): y\n",
    "    })\n",
    "def ome2(x, y):\n",
    "    return omega2.subs({\n",
    "        Symbol(\"q_x\"): x,\n",
    "        Symbol(\"q_y\"): y\n",
    "    })"
   ]
  },
  {
   "cell_type": "code",
   "execution_count": 8,
   "id": "5f642ba5-5e7f-4062-ae4b-10eb5cf802b3",
   "metadata": {},
   "outputs": [
    {
     "data": {
      "text/plain": [
       "100"
      ]
     },
     "execution_count": 8,
     "metadata": {},
     "output_type": "execute_result"
    }
   ],
   "source": [
    "from numpy import linspace\n",
    "xs = linspace(0, 2*pi/a, 200)\n",
    "ws1 = []\n",
    "ws2 = []\n",
    "y = 0\n",
    "for x in linspace(0, pi/a, 100):\n",
    "    ws1.append(ome1(x, 0))\n",
    "    ws2.append(ome2(x, 0))\n",
    "\n",
    "len(ws1)"
   ]
  },
  {
   "cell_type": "code",
   "execution_count": 9,
   "id": "ee6a1950-384a-4235-af38-0e417961d60f",
   "metadata": {},
   "outputs": [
    {
     "data": {
      "image/png": "[encoded data removed]",
      "text/plain": [
       "<Figure size 432x288 with 1 Axes>"
      ]
     },
     "metadata": {
      "needs_background": "light"
     },
     "output_type": "display_data"
    }
   ],
   "source": [
    "plt.clf()\n",
    "plt.plot(xs[0: len(ws1)], ws1)\n",
    "plt.plot(xs[0: len(ws2)], ws2)\n",
    "plt.show()"
   ]
  },
  {
   "cell_type": "code",
   "execution_count": 10,
   "id": "76e1bab2-defa-43f6-aa12-cb0149d19c9d",
   "metadata": {},
   "outputs": [],
   "source": [
    "x = pi/a\n",
    "for y in linspace(0, pi/a, 100):\n",
    "    ws1.append(ome1(x, y))\n",
    "    ws2.append(ome2(x, y))"
   ]
  },
  {
   "cell_type": "code",
   "execution_count": 19,
   "id": "61098143-d305-46e8-8825-c8238fe4f0f4",
   "metadata": {},
   "outputs": [
    {
     "data": {
      "image/png": "[encoded data removed]",
      "text/plain": [
       "<Figure size 432x288 with 1 Axes>"
      ]
     },
     "metadata": {
      "needs_background": "light"
     },
     "output_type": "display_data"
    }
   ],
   "source": [
    "plt.clf()\n",
    "plt.plot(xs[0: len(ws1)], ws1, label=\"$\\\\omega_1$\")\n",
    "plt.plot(xs[0: len(ws2)], ws2, label=\"$\\\\omega_2$\")\n",
    "plt.axvline(x=0, label=\"$(0, 0)$\", color=\"yellow\")\n",
    "plt.axvline(x=pi/a, label=\"$(\\\\pi/a, 0)$\", color=\"pink\")\n",
    "plt.axvline(x=2*pi/a, label=\"$(\\\\pi/a, \\\\pi/a)$\", color=\"green\")\n",
    "plt.legend()\n",
    "plt.text(5.6, 2.4*10**15, \"$a=1$\")\n",
    "plt.xlabel(\"$\\\\Gamma = (q_x, q_y)$\")\n",
    "plt.ylabel(\"$\\\\omega$\")\n",
    "plt.savefig(\"Condensed_HW.png\")"
   ]
  },
  {
   "cell_type": "code",
   "execution_count": null,
   "id": "1df1ffb8-ebf2-47d0-ab35-0b3b49b16363",
   "metadata": {},
   "outputs": [],
   "source": []
  }
 ],
 "metadata": {
  "kernelspec": {
   "display_name": "Python 3",
   "language": "python",
   "name": "python3"
  },
  "language_info": {
   "codemirror_mode": {
    "name": "ipython",
    "version": 3
   },
   "file_extension": ".py",
   "mimetype": "text/x-python",
   "name": "python",
   "nbconvert_exporter": "python",
   "pygments_lexer": "ipython3",
   "version": "3.9.5"
  }
 },
 "nbformat": 4,
 "nbformat_minor": 5
}
