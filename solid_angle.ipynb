{
 "cells": [
  {
   "cell_type": "code",
   "execution_count": 1,
   "id": "52fd280f-d6b5-4b20-bce9-0590f6217fff",
   "metadata": {},
   "outputs": [],
   "source": [
    "from sympy.solvers import solve\n",
    "from sympy import *\n",
    "import sympy as sp"
   ]
  },
  {
   "cell_type": "code",
   "execution_count": 2,
   "id": "6b0a4446-3189-43a1-84df-8c3d66a9c7cd",
   "metadata": {},
   "outputs": [],
   "source": [
    "x, y, h, D = symbols(\"x y h D\")"
   ]
  },
  {
   "cell_type": "code",
   "execution_count": 3,
   "id": "e5d2f5b4-0997-426b-b40c-658abb4e0c31",
   "metadata": {},
   "outputs": [],
   "source": [
    "x1 = (-x - D/2)/h\n",
    "y1 = (-y - D/2)/h\n",
    "\n",
    "x2 = (-x + D/2)/h\n",
    "y2 = (-y - D/2)/h\n",
    "\n",
    "x3 = (-x + D/2)/h\n",
    "y3 = (-y + D/2)/h\n",
    "\n",
    "x4 = (-x - D/2)/h\n",
    "y4 = (-y + D/2)/h"
   ]
  },
  {
   "cell_type": "code",
   "execution_count": 4,
   "id": "5ced4399-f2b0-469e-a2a0-2cc2a1a910c4",
   "metadata": {},
   "outputs": [],
   "source": [
    "p1x = y1 - y2\n",
    "p1y = x2 - x1\n",
    "p1z = x1*y2 - x2*y1\n",
    "\n",
    "p2x = y2 - y3\n",
    "p2y = x3 - x2\n",
    "p2z = x2*y3 - x3*y2\n",
    "\n",
    "p3x = y3 - y4\n",
    "p3y = x4 - x3\n",
    "p3z = x3*y4 - x4*y3\n",
    "\n",
    "p4x = y4 - y1\n",
    "p4y = x1 - x4\n",
    "p4z = x4*y1 - x1*y4"
   ]
  },
  {
   "cell_type": "code",
   "execution_count": 5,
   "id": "ea058333-4139-4a2f-92d0-1ef0c4531bb4",
   "metadata": {},
   "outputs": [
    {
     "data": {
      "text/latex": [
       "$\\displaystyle \\sqrt{\\left(- \\frac{- \\frac{D}{2} - x}{h} + \\frac{\\frac{D}{2} - x}{h}\\right)^{2} + \\left(\\frac{\\left(- \\frac{D}{2} - x\\right) \\left(- \\frac{D}{2} - y\\right)}{h^{2}} - \\frac{\\left(- \\frac{D}{2} - y\\right) \\left(\\frac{D}{2} - x\\right)}{h^{2}}\\right)^{2}}$"
      ],
      "text/plain": [
       "sqrt((-(-D/2 - x)/h + (D/2 - x)/h)**2 + ((-D/2 - x)*(-D/2 - y)/h**2 - (-D/2 - y)*(D/2 - x)/h**2)**2)"
      ]
     },
     "execution_count": 5,
     "metadata": {},
     "output_type": "execute_result"
    }
   ],
   "source": [
    "def mod(a, b, c):\n",
    "    return (sqrt(a*a + b*b + c*c))\n",
    "\n",
    "mod(p1x, p1y, p1z)"
   ]
  },
  {
   "cell_type": "code",
   "execution_count": 6,
   "id": "00b9dadf-1911-4152-aa75-88fc53591c9b",
   "metadata": {},
   "outputs": [
    {
     "data": {
      "text/latex": [
       "$\\displaystyle \\left(\\frac{\\left(- \\frac{D}{2} - x\\right) \\left(- \\frac{D}{2} - y\\right)}{h^{2}} - \\frac{\\left(- \\frac{D}{2} - y\\right) \\left(\\frac{D}{2} - x\\right)}{h^{2}}\\right) \\left(- \\frac{\\left(- \\frac{D}{2} - y\\right) \\left(\\frac{D}{2} - x\\right)}{h^{2}} + \\frac{\\left(\\frac{D}{2} - x\\right) \\left(\\frac{D}{2} - y\\right)}{h^{2}}\\right)$"
      ],
      "text/plain": [
       "((-D/2 - x)*(-D/2 - y)/h**2 - (-D/2 - y)*(D/2 - x)/h**2)*(-(-D/2 - y)*(D/2 - x)/h**2 + (D/2 - x)*(D/2 - y)/h**2)"
      ]
     },
     "execution_count": 6,
     "metadata": {},
     "output_type": "execute_result"
    }
   ],
   "source": [
    "def dot(a, b, c, d, e, f):\n",
    "    return (a*d + b*e + c*f)\n",
    "\n",
    "dot(p1x, p1y, p1z, p2x, p2y, p2z)"
   ]
  },
  {
   "cell_type": "code",
   "execution_count": 7,
   "id": "bc6f1df5-0d3f-4c8f-8f91-78954a92d748",
   "metadata": {},
   "outputs": [],
   "source": [
    "alpha1 = acos(dot(p1x, p1y, p1z, p2x, p2y, p2z)/(mod(p1x, p1y, p1z)*mod(p2x, p2y, p2z)))\n",
    "alpha2 = acos(dot(p2x, p2y, p2z, p3x, p3y, p3z)/(mod(p2x, p2y, p2z)*mod(p3x, p3y, p3z)))\n",
    "alpha3 = acos(dot(p3x, p3y, p3z, p4x, p4y, p4z)/(mod(p3x, p3y, p3z)*mod(p4x, p4y, p4z)))\n",
    "alpha4 = acos(dot(p4x, p4y, p4z, p1x, p1y, p1z)/(mod(p4x, p4y, p4z)*mod(p1x, p1y, p1z)))"
   ]
  },
  {
   "cell_type": "code",
   "execution_count": 8,
   "id": "4d22bd28-22b6-4c2f-b7bf-0a8e349af098",
   "metadata": {},
   "outputs": [
    {
     "data": {
      "text/latex": [
       "$\\displaystyle \\operatorname{acos}{\\left(\\frac{\\left(\\frac{\\left(- \\frac{D}{2} - x\\right) \\left(- \\frac{D}{2} - y\\right)}{h^{2}} - \\frac{\\left(- \\frac{D}{2} - y\\right) \\left(\\frac{D}{2} - x\\right)}{h^{2}}\\right) \\left(- \\frac{\\left(- \\frac{D}{2} - y\\right) \\left(\\frac{D}{2} - x\\right)}{h^{2}} + \\frac{\\left(\\frac{D}{2} - x\\right) \\left(\\frac{D}{2} - y\\right)}{h^{2}}\\right)}{\\sqrt{\\left(- \\frac{- \\frac{D}{2} - x}{h} + \\frac{\\frac{D}{2} - x}{h}\\right)^{2} + \\left(\\frac{\\left(- \\frac{D}{2} - x\\right) \\left(- \\frac{D}{2} - y\\right)}{h^{2}} - \\frac{\\left(- \\frac{D}{2} - y\\right) \\left(\\frac{D}{2} - x\\right)}{h^{2}}\\right)^{2}} \\sqrt{\\left(\\frac{- \\frac{D}{2} - y}{h} - \\frac{\\frac{D}{2} - y}{h}\\right)^{2} + \\left(- \\frac{\\left(- \\frac{D}{2} - y\\right) \\left(\\frac{D}{2} - x\\right)}{h^{2}} + \\frac{\\left(\\frac{D}{2} - x\\right) \\left(\\frac{D}{2} - y\\right)}{h^{2}}\\right)^{2}}} \\right)}$"
      ],
      "text/plain": [
       "acos(((-D/2 - x)*(-D/2 - y)/h**2 - (-D/2 - y)*(D/2 - x)/h**2)*(-(-D/2 - y)*(D/2 - x)/h**2 + (D/2 - x)*(D/2 - y)/h**2)/(sqrt((-(-D/2 - x)/h + (D/2 - x)/h)**2 + ((-D/2 - x)*(-D/2 - y)/h**2 - (-D/2 - y)*(D/2 - x)/h**2)**2)*sqrt(((-D/2 - y)/h - (D/2 - y)/h)**2 + (-(-D/2 - y)*(D/2 - x)/h**2 + (D/2 - x)*(D/2 - y)/h**2)**2)))"
      ]
     },
     "execution_count": 8,
     "metadata": {},
     "output_type": "execute_result"
    }
   ],
   "source": [
    "alpha1"
   ]
  },
  {
   "cell_type": "code",
   "execution_count": 9,
   "id": "40e049c1-87bd-4fdc-a2db-64b90426a15c",
   "metadata": {},
   "outputs": [],
   "source": [
    "area = alpha1 + alpha2 + alpha3 + alpha4 - 2*pi "
   ]
  },
  {
   "cell_type": "code",
   "execution_count": 10,
   "id": "fb60487b-732d-48c2-881b-a1325171a3a0",
   "metadata": {},
   "outputs": [
    {
     "data": {
      "text/plain": [
       "'\\\\operatorname{acos}{\\\\left(\\\\frac{D^{2} \\\\left(D - 2 x\\\\right) \\\\left(D - 2 y\\\\right)}{h^{4} \\\\sqrt{\\\\frac{D^{2} \\\\left(4 h^{2} + \\\\left(D - 2 x\\\\right)^{2}\\\\right)}{h^{4}}} \\\\sqrt{\\\\frac{D^{2} \\\\left(4 h^{2} + \\\\left(D - 2 y\\\\right)^{2}\\\\right)}{h^{4}}}} \\\\right)} + \\\\operatorname{acos}{\\\\left(\\\\frac{D^{2} \\\\left(D - 2 x\\\\right) \\\\left(D + 2 y\\\\right)}{h^{4} \\\\sqrt{\\\\frac{D^{2} \\\\left(4 h^{2} + \\\\left(D - 2 x\\\\right)^{2}\\\\right)}{h^{4}}} \\\\sqrt{\\\\frac{D^{2} \\\\left(4 h^{2} + \\\\left(D + 2 y\\\\right)^{2}\\\\right)}{h^{4}}}} \\\\right)} + \\\\operatorname{acos}{\\\\left(\\\\frac{D^{2} \\\\left(D + 2 x\\\\right) \\\\left(D - 2 y\\\\right)}{h^{4} \\\\sqrt{\\\\frac{D^{2} \\\\left(4 h^{2} + \\\\left(D + 2 x\\\\right)^{2}\\\\right)}{h^{4}}} \\\\sqrt{\\\\frac{D^{2} \\\\left(4 h^{2} + \\\\left(D - 2 y\\\\right)^{2}\\\\right)}{h^{4}}}} \\\\right)} + \\\\operatorname{acos}{\\\\left(\\\\frac{D^{2} \\\\left(D + 2 x\\\\right) \\\\left(D + 2 y\\\\right)}{h^{4} \\\\sqrt{\\\\frac{D^{2} \\\\left(4 h^{2} + \\\\left(D + 2 x\\\\right)^{2}\\\\right)}{h^{4}}} \\\\sqrt{\\\\frac{D^{2} \\\\left(4 h^{2} + \\\\left(D + 2 y\\\\right)^{2}\\\\right)}{h^{4}}}} \\\\right)} - 2 \\\\pi'"
      ]
     },
     "execution_count": 10,
     "metadata": {},
     "output_type": "execute_result"
    }
   ],
   "source": [
    "sp.printing.latex(simplify(area))\n",
    "#simplify(area)"
   ]
  },
  {
   "cell_type": "code",
   "execution_count": 11,
   "id": "4ab59f25-0196-497a-98aa-805526e49c55",
   "metadata": {},
   "outputs": [
    {
     "data": {
      "text/plain": [
       "0.20349012288543136"
      ]
     },
     "execution_count": 11,
     "metadata": {},
     "output_type": "execute_result"
    }
   ],
   "source": [
    "# writing the above expression as a function\n",
    "import numpy as np\n",
    "def omega(x, y, h, D):\n",
    "    ret_val = float(\n",
    "        np.arccos((D - 2*x)*(D - 2*y)/np.sqrt((4*h*h + (D - 2*x)**2)*(4*h*h + (D - 2*y)**2)))+\n",
    "        np.arccos((D - 2*x)*(D + 2*y)/np.sqrt((4*h*h + (D - 2*x)**2)*(4*h*h + (D + 2*y)**2)))+\n",
    "        np.arccos((D + 2*x)*(D - 2*y)/np.sqrt((4*h*h + (D + 2*x)**2)*(4*h*h + (D - 2*y)**2)))+\n",
    "        np.arccos((D + 2*x)*(D + 2*y)/np.sqrt((4*h*h + (D + 2*x)**2)*(4*h*h + (D + 2*y)**2))) - 2*pi\n",
    "    )\n",
    "    return np.abs(ret_val)\n",
    "omega(1, 1, 1, 1)"
   ]
  },
  {
   "cell_type": "code",
   "execution_count": 12,
   "id": "32e5de03-0754-4161-a3ef-215a99127233",
   "metadata": {},
   "outputs": [
    {
     "data": {
      "text/plain": [
       "Text(0, 0.5, 'y')"
      ]
     },
     "execution_count": 12,
     "metadata": {},
     "output_type": "execute_result"
    },
    {
     "data": {
      "image/png": "[encoded data removed]",
      "text/plain": [
       "<Figure size 432x288 with 1 Axes>"
      ]
     },
     "metadata": {
      "needs_background": "light"
     },
     "output_type": "display_data"
    }
   ],
   "source": [
    "x = np.linspace(-10, 10, 100)\n",
    "y = list(map(lambda x_:omega(x_,0, 1, 1), x))\n",
    "import matplotlib.pyplot as plt\n",
    "plt.plot(x, y)\n",
    "plt.xlabel(\"x\")\n",
    "plt.ylabel(\"y\")"
   ]
  },
  {
   "cell_type": "code",
   "execution_count": 13,
   "id": "1beb3a39-72dd-4574-bf0b-122aace978ce",
   "metadata": {},
   "outputs": [],
   "source": [
    "from scipy import integrate\n",
    "def get_integral(C):\n",
    "    return integrate.quad(\n",
    "        lambda x: integrate.quad(\n",
    "            lambda y: omega(x, y, 35, 16)/(4*np.pi),\n",
    "            -C,\n",
    "            C\n",
    "        )[0],\n",
    "        -C, \n",
    "        C\n",
    "    )[0]"
   ]
  },
  {
   "cell_type": "code",
   "execution_count": 14,
   "id": "84d958ca-ecdd-4068-a1d8-f4ec7baab96e",
   "metadata": {},
   "outputs": [],
   "source": [
    "last_integral = get_integral(10)\n",
    "integral = get_integral(20)\n",
    "c = 20\n",
    "x = [10, 20]\n",
    "y = [last_integral, integral]\n",
    "#while np.abs(last_integral - integral)/integral > 0.001:\n",
    "while c < 1000:\n",
    "    c = c + 10\n",
    "    last_integral = integral\n",
    "    integral = get_integral(c)\n",
    "    x.append(c)\n",
    "    y.append(integral)"
   ]
  },
  {
   "cell_type": "code",
   "execution_count": 15,
   "id": "82d2edf7-6d6c-440f-bad2-d084ff75acce",
   "metadata": {},
   "outputs": [
    {
     "name": "stdout",
     "output_type": "stream",
     "text": [
      "123.96853272247851\n"
     ]
    },
    {
     "data": {
      "image/png": "[encoded data removed]",
      "text/plain": [
       "<Figure size 432x288 with 1 Axes>"
      ]
     },
     "metadata": {
      "needs_background": "light"
     },
     "output_type": "display_data"
    }
   ],
   "source": [
    "error = 0.02\n",
    "ne = 1 - error\n",
    "p = 125\n",
    "plt.grid()\n",
    "plt.title(\"Detector input vs Input width\")\n",
    "plt.xlabel(\"Input width X-Y in inches\")\n",
    "plt.ylabel(\"Detector input\")\n",
    "plt.plot(x, y, label=\"detector input\")\n",
    "#plt.plot([0, 1000], [p, p], label=f\"y={p}\")\n",
    "#for x_, y_ in zip(x, y):\n",
    "#    if y_ < p*ne:\n",
    "#        C = x_\n",
    "#plt.text(C, p*ne-30, f\"({C}, {p*ne})\")\n",
    "#plt.plot([0, 1000], [p*ne, p*ne], label=f\"y={p*ne}\")\n",
    "plt.legend()\n",
    "plt.savefig(\"detector_input.png\")\n",
    "print(y[-1])"
   ]
  },
  {
   "cell_type": "code",
   "execution_count": null,
   "id": "67302f83-8579-4a15-9948-0ee98ea84e73",
   "metadata": {},
   "outputs": [],
   "source": []
  }
 ],
 "metadata": {
  "kernelspec": {
   "display_name": "Python 3",
   "language": "python",
   "name": "python3"
  },
  "language_info": {
   "codemirror_mode": {
    "name": "ipython",
    "version": 3
   },
   "file_extension": ".py",
   "mimetype": "text/x-python",
   "name": "python",
   "nbconvert_exporter": "python",
   "pygments_lexer": "ipython3",
   "version": "3.9.6"
  }
 },
 "nbformat": 4,
 "nbformat_minor": 5
}
