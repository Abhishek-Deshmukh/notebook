{
 "cells": [
  {
   "cell_type": "markdown",
   "metadata": {},
   "source": [
    "# Monte Hall Three Door Puzzle\n",
    "\n",
    "Actually trying out all the possible scenarios and finding the probability.\n",
    "\n",
    "1, 2, 3 represent the three doors of the puzzle.\n",
    "\n",
    "2 is the large prize"
   ]
  },
  {
   "cell_type": "markdown",
   "metadata": {},
   "source": [
    "Just for the sake of it, only selecting one door, checking out all the outcomes and checking the result"
   ]
  },
  {
   "cell_type": "code",
   "execution_count": 1,
   "metadata": {},
   "outputs": [],
   "source": [
    "won = 0 # counter for number of games won\n",
    "lost = 0 # counter for number of games lost"
   ]
  },
  {
   "cell_type": "code",
   "execution_count": 2,
   "metadata": {},
   "outputs": [
    {
     "name": "stdout",
     "output_type": "stream",
     "text": [
      "0.3333333333333333\n"
     ]
    }
   ],
   "source": [
    "for selected_door in [1, 2, 3]:\n",
    "    if selected_door == 2:\n",
    "        won += 1\n",
    "    else:\n",
    "        lost += 1\n",
    "propability_of_winning = won / (won+lost)\n",
    "print(propability_of_winning)"
   ]
  },
  {
   "cell_type": "markdown",
   "metadata": {},
   "source": [
    "Pseudo-randomly selecting of going through all the possible scenarios"
   ]
  },
  {
   "cell_type": "code",
   "execution_count": 3,
   "metadata": {},
   "outputs": [],
   "source": [
    "from random import choice # used for doing a pseudo-random selection\n",
    "won = 0\n",
    "lost = 0"
   ]
  },
  {
   "cell_type": "code",
   "execution_count": 4,
   "metadata": {},
   "outputs": [
    {
     "name": "stdout",
     "output_type": "stream",
     "text": [
      "0.333898\n"
     ]
    }
   ],
   "source": [
    "for _ in range(1000000): # just repeats the below block 10,00,000 times\n",
    "    selected_door = choice([1, 2, 3])\n",
    "    if selected_door == 2:\n",
    "        won += 1\n",
    "    else:\n",
    "        lost += 1\n",
    "propability_of_winning = won / (won+lost)\n",
    "print(propability_of_winning)"
   ]
  },
  {
   "cell_type": "markdown",
   "metadata": {},
   "source": [
    "Now just looping through all the options of both the host and the player, which generates all the possible game scenarios."
   ]
  },
  {
   "cell_type": "markdown",
   "metadata": {},
   "source": [
    "Not switching when given the option"
   ]
  },
  {
   "cell_type": "code",
   "execution_count": 5,
   "metadata": {},
   "outputs": [],
   "source": [
    "won = 0 # counter of number of games won\n",
    "lost = 0 # counter for number of games lost"
   ]
  },
  {
   "cell_type": "code",
   "execution_count": 6,
   "metadata": {},
   "outputs": [
    {
     "name": "stdout",
     "output_type": "stream",
     "text": [
      "0.5\n"
     ]
    }
   ],
   "source": [
    "for initial_select in [1, 2, 3]:\n",
    "    if initial_select == 1:\n",
    "        options_for_host_to_open = [3]\n",
    "    elif initial_select == 3:\n",
    "        options_for_host_to_open = [1]\n",
    "    else:\n",
    "        options_for_host_to_open = [1, 3]\n",
    "    for host_opens in options_for_host_to_open:\n",
    "        if initial_select == 2:\n",
    "            won += 1\n",
    "        else:\n",
    "            lost += 1\n",
    "propability_of_winning = won / (won+lost)\n",
    "print(propability_of_winning)"
   ]
  },
  {
   "cell_type": "markdown",
   "metadata": {},
   "source": [
    "Switching when given the option"
   ]
  },
  {
   "cell_type": "code",
   "execution_count": 7,
   "metadata": {},
   "outputs": [],
   "source": [
    "won = 0 # counter of number of games won\n",
    "lost = 0 # counter for number of games lost"
   ]
  },
  {
   "cell_type": "code",
   "execution_count": 8,
   "metadata": {},
   "outputs": [
    {
     "name": "stdout",
     "output_type": "stream",
     "text": [
      "0.5\n"
     ]
    }
   ],
   "source": [
    "for initial_select in [1, 2, 3]:\n",
    "    if initial_select == 1:\n",
    "        options_for_host_to_open = [3]\n",
    "    elif initial_select == 3:\n",
    "        options_for_host_to_open = [1]\n",
    "    else:\n",
    "        options_for_host_to_open = [1, 3]\n",
    "    for host_opens in options_for_host_to_open:\n",
    "        new_select = [1, 2, 3]\n",
    "        new_select.remove(initial_select) # removes the value of initial_select form the list in new_select\n",
    "        new_select.remove(host_opens)\n",
    "        if new_select == [2]:\n",
    "            won += 1\n",
    "        else:\n",
    "            lost += 1\n",
    "propability_of_winning = won / (won+lost)\n",
    "print(propability_of_winning)"
   ]
  },
  {
   "cell_type": "markdown",
   "metadata": {},
   "source": [
    "If we do a pseudo-random selection insted of trying all the options on the door selected by the host... and repeating the exp a 1000000 times to make it| accurate."
   ]
  },
  {
   "cell_type": "markdown",
   "metadata": {},
   "source": [
    "Switching"
   ]
  },
  {
   "cell_type": "code",
   "execution_count": 9,
   "metadata": {},
   "outputs": [],
   "source": [
    "from random import choice\n",
    "won = 0\n",
    "lost = 0"
   ]
  },
  {
   "cell_type": "code",
   "execution_count": 10,
   "metadata": {},
   "outputs": [
    {
     "name": "stdout",
     "output_type": "stream",
     "text": [
      "0.6666666666666666\n"
     ]
    }
   ],
   "source": [
    "for _ in range(1000000): # repeating the exp a 100 times\n",
    "    for initial_select in [1, 2, 3]:\n",
    "        if initial_select == 1:\n",
    "            options_for_host_to_open = [3]\n",
    "        elif initial_select == 3:\n",
    "            options_for_host_to_open = [1]\n",
    "        else:\n",
    "            options_for_host_to_open = [1, 3]\n",
    "        host_opens = choice(options_for_host_to_open)\n",
    "        new_select = [1, 2, 3]\n",
    "        new_select.remove(initial_select)\n",
    "        new_select.remove(host_opens)\n",
    "        if new_select == [2]:\n",
    "            won += 1\n",
    "        else:\n",
    "            lost += 1\n",
    "propability_of_winning = won / (won+lost)\n",
    "print(propability_of_winning)"
   ]
  },
  {
   "cell_type": "markdown",
   "metadata": {},
   "source": [
    "Not switching"
   ]
  },
  {
   "cell_type": "code",
   "execution_count": 11,
   "metadata": {},
   "outputs": [],
   "source": [
    "from random import choice\n",
    "won = 0\n",
    "lost = 0"
   ]
  },
  {
   "cell_type": "code",
   "execution_count": 12,
   "metadata": {},
   "outputs": [
    {
     "name": "stdout",
     "output_type": "stream",
     "text": [
      "0.3333333333333333\n"
     ]
    }
   ],
   "source": [
    "for _ in range(1000000):\n",
    "    for initial_select in [1, 2, 3]:\n",
    "        if initial_select == 1:\n",
    "            options_for_host_to_open = [3]\n",
    "        elif initial_select == 3:\n",
    "            options_for_host_to_open = [1]\n",
    "        else:\n",
    "            options_for_host_to_open = [1, 3]\n",
    "        host_opens = choice(options_for_host_to_open)\n",
    "        if initial_select == 2:\n",
    "            won += 1\n",
    "        else:\n",
    "            lost += 1\n",
    "propability_of_winning = won / (won+lost)\n",
    "print(propability_of_winning)"
   ]
  },
  {
   "cell_type": "markdown",
   "metadata": {},
   "source": [
    "Now lets handover the initial selection of the door as well to random choice. \n",
    "\n",
    "At this point we are not going over all the possible games counting how many we win, we are instead playing the game again and again (pseudo-randomly) and trying to calculate the probability"
   ]
  },
  {
   "cell_type": "markdown",
   "metadata": {},
   "source": [
    "Not switching"
   ]
  },
  {
   "cell_type": "code",
   "execution_count": 13,
   "metadata": {},
   "outputs": [],
   "source": [
    "from random import choice\n",
    "won = 0\n",
    "lost = 0"
   ]
  },
  {
   "cell_type": "code",
   "execution_count": 14,
   "metadata": {},
   "outputs": [
    {
     "name": "stdout",
     "output_type": "stream",
     "text": [
      "0.333021\n"
     ]
    }
   ],
   "source": [
    "for _ in range(1000000):\n",
    "    initial_select = choice([1, 2, 3])\n",
    "    if initial_select == 1:\n",
    "        options_for_host_to_open = [3]\n",
    "    elif initial_select == 3:\n",
    "        options_for_host_to_open = [1]\n",
    "    else:\n",
    "        options_for_host_to_open = [1, 3]\n",
    "    host_opens = choice(options_for_host_to_open)\n",
    "    if initial_select == 2:\n",
    "        won += 1\n",
    "    else:\n",
    "        lost += 1\n",
    "propability_of_winning = won / (won+lost)\n",
    "print(propability_of_winning)"
   ]
  },
  {
   "cell_type": "markdown",
   "metadata": {},
   "source": [
    "Switching"
   ]
  },
  {
   "cell_type": "code",
   "execution_count": 15,
   "metadata": {},
   "outputs": [],
   "source": [
    "from random import choice\n",
    "won = 0\n",
    "lost = 0"
   ]
  },
  {
   "cell_type": "code",
   "execution_count": 16,
   "metadata": {},
   "outputs": [
    {
     "name": "stdout",
     "output_type": "stream",
     "text": [
      "0.33344\n"
     ]
    }
   ],
   "source": [
    "for _ in range(1000000):\n",
    "    initial_select = choice([1, 2, 3])\n",
    "    if initial_select == 1:\n",
    "        options_for_host_to_open = [3]\n",
    "    elif initial_select == 3:\n",
    "        options_for_host_to_open = [1]\n",
    "    else:\n",
    "        options_for_host_to_open = [1, 3]\n",
    "    host_opens = choice(options_for_host_to_open)\n",
    "    new_select = [1, 2, 3]\n",
    "    new_select.remove(initial_select)\n",
    "    new_select.remove(host_opens)\n",
    "    if initial_select == 2:\n",
    "        won += 1\n",
    "    else:\n",
    "        lost += 1\n",
    "propability_of_winning = won / (won+lost)\n",
    "print(propability_of_winning)"
   ]
  }
 ],
 "metadata": {
  "kernelspec": {
   "display_name": "Python 3",
   "language": "python",
   "name": "python3"
  },
  "language_info": {
   "codemirror_mode": {
    "name": "ipython",
    "version": 3
   },
   "file_extension": ".py",
   "mimetype": "text/x-python",
   "name": "python",
   "nbconvert_exporter": "python",
   "pygments_lexer": "ipython3",
   "version": "3.8.1"
  }
 },
 "nbformat": 4,
 "nbformat_minor": 4
}
