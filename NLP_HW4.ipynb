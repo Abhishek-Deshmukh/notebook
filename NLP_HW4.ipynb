{
 "cells": [
  {
   "cell_type": "markdown",
   "metadata": {
    "collapsed": true,
    "pycharm": {
     "name": "#%% md\n"
    }
   },
   "source": [
    "# P467-2022 HW4\n",
    "\n",
    "7 Feb, 2022\n",
    "Abhishek Anil Deshmukh - 1811004\n"
   ]
  },
  {
   "cell_type": "code",
   "execution_count": 1,
   "outputs": [],
   "source": [
    "import numpy as np\n",
    "import matplotlib.pyplot as plt\n",
    "from scipy.optimize import root\n",
    "from scipy.misc import derivative\n",
    "%matplotlib inline"
   ],
   "metadata": {
    "collapsed": false,
    "pycharm": {
     "name": "#%%\n"
    }
   }
  },
  {
   "cell_type": "code",
   "execution_count": 2,
   "outputs": [],
   "source": [
    "def stream_plot(f, x_range=(0, 10), y_range=(-5, 5), density=1, x_scale=20, xlabel=\"t(s)\", ylabel=\"\", title=\"\", args=[]):\n",
    "    def function(x):\n",
    "        return f(x, *args)\n",
    "    \"\"\"makes and shows a stream plot for the given function with other beautification parameters\"\"\"\n",
    "    u = np.ones(((x_range[1]-x_range[0])*10, (y_range[1]-y_range[0])*10)).T*x_scale\n",
    "    v = function(np.repeat([np.arange(*y_range, 0.1)], 100, axis=0)).T\n",
    "    plt.streamplot(*np.meshgrid(np.arange(*x_range, 0.1), np.arange(*y_range, 0.1)), u, v, density=density)\n",
    "    plt.xlabel(xlabel)\n",
    "    plt.title(title)\n",
    "    plt.ylabel(ylabel)\n",
    "    plt.show()\n",
    "\n",
    "def vector_field(f, x_range, title=\"\", xlabel=\"$x$\", ylabel=\"$\\dot{x}$\", root_estimates=[-1, 1], args=[], arrows=[], fp=True):\n",
    "    \"\"\"makes and shows the vector field for the given function, with other beautification parameters\"\"\"\n",
    "    # setup\n",
    "    def function(x):\n",
    "        return f(x, *args)\n",
    "    x = np.linspace(*x_range, 100)\n",
    "\n",
    "    # plotting the function\n",
    "    plt.plot(x, function(x))\n",
    "\n",
    "    if fp:\n",
    "        # finding and classifying fixed point\n",
    "        fixed_points = root(function, root_estimates, method=\"lm\")[\"x\"]\n",
    "        fixed_points = set(fixed_points) # removes repetition\n",
    "        stable = []\n",
    "        unstable = []\n",
    "        semi_stable = []\n",
    "        for fixed_point in fixed_points:\n",
    "            deri = derivative(function, fixed_point, dx=0.001)\n",
    "            if deri > 0:\n",
    "                unstable.append(fixed_point)\n",
    "            elif deri < 0:\n",
    "                stable.append(fixed_point)\n",
    "            else:\n",
    "                semi_stable.append(fixed_point)\n",
    "\n",
    "\n",
    "        # drawing fixed points\n",
    "        if len(stable) > 0:\n",
    "            plt.scatter(stable, np.zeros(len(stable)), label=f\"{len(stable)} stable fixed points\")\n",
    "            print(f\"stable fixed points: {stable}\")\n",
    "        if len(unstable) > 0:\n",
    "            plt.scatter(unstable, np.zeros(len(unstable)), label=f\"{len(unstable)} unstable fixed points\")\n",
    "            print(f\"unstable fixed points: {unstable}\")\n",
    "        if len(semi_stable) > 0:\n",
    "            plt.scatter(semi_stable, np.zeros(len(semi_stable)), label=f\"{len(semi_stable)} semi-stable fixed points\")\n",
    "            print(f\"semi-stable fixed points: {semi_stable}\")\n",
    "\n",
    "    # drawing arrows\n",
    "    for arrow in arrows:\n",
    "        if function(arrow) > 0:\n",
    "            plt.scatter([arrow], [0], marker=\">\", color=\"blue\")\n",
    "        elif function(arrow) < 0:\n",
    "            plt.scatter([arrow], [0], marker=\"<\", color=\"red\")\n",
    "        else:\n",
    "            print(f\"x={arrow} is a solution\")\n",
    "\n",
    "    # beautification stuff\n",
    "    plt.axhline(y=0, xmin=x_range[0], xmax=x_range[1], color=\"black\") # x-axis\n",
    "    plt.xlabel(xlabel)\n",
    "    plt.ylabel(ylabel)\n",
    "    plt.title(title)\n",
    "    plt.legend()\n",
    "    plt.show()\n",
    "\n",
    "def bifurcation_diagram(f, r_range, x_range, root_estimates, title=\"Bifurcation diagram\", xlabel=\"r\", ylabel=\"x*\", args=[]):\n",
    "    def function(x, r):\n",
    "        return f(x, r, *args)\n",
    "    stables_r = []\n",
    "    stables_x = []\n",
    "    unstables_r = []\n",
    "    unstables_x = []\n",
    "\n",
    "    for r in np.linspace(*r_range, 100):\n",
    "        def fun(x):\n",
    "            return function(x, r)\n",
    "        # finding and classifying fixed point for that r\n",
    "        fixed_points = root(fun, root_estimates, method=\"lm\")[\"x\"]\n",
    "        fixed_points = set(fixed_points) # removes repetition\n",
    "        stable = []\n",
    "        unstable = []\n",
    "        semi_stable = []\n",
    "        for fixed_point in fixed_points:\n",
    "            deri = derivative(fun, fixed_point, dx=0.01)\n",
    "            if deri > 0:\n",
    "                unstables_x.append(fixed_point)\n",
    "                unstables_r.append(r)\n",
    "            elif deri < 0:\n",
    "                stables_x.append(fixed_point)\n",
    "                stables_r.append(r)\n",
    "            else:\n",
    "                semi_stable.append(fixed_point)\n",
    "    plt.scatter(stables_r, stables_x, label=\"stable\", s=4)\n",
    "    plt.scatter(unstables_r, unstables_x, label=\"unstable\", s=4)\n",
    "    plt.legend()\n",
    "    plt.xlabel(xlabel)\n",
    "    plt.ylabel(ylabel)\n",
    "    plt.title(title)\n",
    "    plt.show()"
   ],
   "metadata": {
    "collapsed": false,
    "pycharm": {
     "name": "#%%\n"
    }
   }
  },
  {
   "cell_type": "markdown",
   "source": [
    "## 3.6.3\n"
   ],
   "metadata": {
    "collapsed": false,
    "pycharm": {
     "name": "#%% md\n"
    }
   }
  },
  {
   "cell_type": "code",
   "execution_count": 6,
   "outputs": [
    {
     "name": "stdout",
     "output_type": "stream",
     "text": [
      "stable fixed points: [-0.3027756377319946]\n",
      "unstable fixed points: [-3.1789591227065787e-22]\n"
     ]
    },
    {
     "data": {
      "text/plain": "<Figure size 432x288 with 1 Axes>",
      "image/png": "[encoded data removed]"
     },
     "metadata": {
      "needs_background": "light"
     },
     "output_type": "display_data"
    }
   ],
   "source": [
    "def q3_6_3(x, r, a):\n",
    "    return r*x + a*x*x - x*x*x\n",
    "vector_field(q3_6_3, [-10, 10], args=[1, 3])"
   ],
   "metadata": {
    "collapsed": false,
    "pycharm": {
     "name": "#%%\n"
    }
   }
  },
  {
   "cell_type": "code",
   "execution_count": 14,
   "outputs": [
    {
     "data": {
      "text/plain": "<Figure size 432x288 with 1 Axes>",
      "image/png": "[encoded data removed]"
     },
     "metadata": {
      "needs_background": "light"
     },
     "output_type": "display_data"
    },
    {
     "data": {
      "text/plain": "<Figure size 432x288 with 1 Axes>",
      "image/png": "[encoded data removed]"
     },
     "metadata": {
      "needs_background": "light"
     },
     "output_type": "display_data"
    },
    {
     "data": {
      "text/plain": "<Figure size 432x288 with 1 Axes>",
      "image/png": "[encoded data removed]"
     },
     "metadata": {
      "needs_background": "light"
     },
     "output_type": "display_data"
    }
   ],
   "source": [
    "for a in [-5, 0, 5]:\n",
    "    bifurcation_diagram(q3_6_3, [-20, 20], [10, 10], [-3, 0, 3], args=[a], title=f\"a={a}\")"
   ],
   "metadata": {
    "collapsed": false,
    "pycharm": {
     "name": "#%%\n"
    }
   }
  },
  {
   "cell_type": "code",
   "execution_count": null,
   "outputs": [],
   "source": [],
   "metadata": {
    "collapsed": false,
    "pycharm": {
     "name": "#%%\n"
    }
   }
  }
 ],
 "metadata": {
  "kernelspec": {
   "display_name": "Python 3",
   "language": "python",
   "name": "python3"
  },
  "language_info": {
   "codemirror_mode": {
    "name": "ipython",
    "version": 2
   },
   "file_extension": ".py",
   "mimetype": "text/x-python",
   "name": "python",
   "nbconvert_exporter": "python",
   "pygments_lexer": "ipython2",
   "version": "2.7.6"
  }
 },
 "nbformat": 4,
 "nbformat_minor": 0
}